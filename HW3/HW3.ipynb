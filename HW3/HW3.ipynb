{
 "cells": [
  {
   "cell_type": "code",
   "execution_count": 1,
   "metadata": {},
   "outputs": [],
   "source": [
    "import numpy as np\n",
    "\n",
    "def f(x):\n",
    "  \"\"\"\n",
    "  Calculates the value of the function with added Gaussian term.\n",
    "  \"\"\"\n",
    "  return np.sin(x) + np.cos(2*x) + np.exp(-x**2)  # Add your noise term here as needed"
   ]
  },
  {
   "cell_type": "code",
   "execution_count": 2,
   "metadata": {},
   "outputs": [],
   "source": [
    "x1 = np.linspace(-5, 2, 50)  # Adjust the range as needed\n",
    "x2 = np.linspace(-3, 1, 50)  # Adjust the range as needed\n",
    "X1, X2 = np.meshgrid(x1, x2)\n",
    "Z = np.zeros_like(X1)\n",
    "\n",
    "for i in range(len(x1)):\n",
    "  for j in range(len(x2)):\n",
    "    Z[i, j] = f(X1[i, j])"
   ]
  },
  {
   "cell_type": "code",
   "execution_count": 3,
   "metadata": {},
   "outputs": [
    {
     "ename": "NameError",
     "evalue": "name 'optimization_path' is not defined",
     "output_type": "error",
     "traceback": [
      "\u001b[1;31m---------------------------------------------------------------------------\u001b[0m",
      "\u001b[1;31mNameError\u001b[0m                                 Traceback (most recent call last)",
      "Cell \u001b[1;32mIn[3], line 6\u001b[0m\n\u001b[0;32m      4\u001b[0m x1_path \u001b[38;5;241m=\u001b[39m []\n\u001b[0;32m      5\u001b[0m x2_path \u001b[38;5;241m=\u001b[39m []\n\u001b[1;32m----> 6\u001b[0m \u001b[38;5;28;01mfor\u001b[39;00m x1, x2 \u001b[38;5;129;01min\u001b[39;00m optimization_path:  \u001b[38;5;66;03m# Assuming optimization_path is a list of (x1, x2) tuples\u001b[39;00m\n\u001b[0;32m      7\u001b[0m   x1_path\u001b[38;5;241m.\u001b[39mappend(x1)\n\u001b[0;32m      8\u001b[0m   x2_path\u001b[38;5;241m.\u001b[39mappend(x2)\n",
      "\u001b[1;31mNameError\u001b[0m: name 'optimization_path' is not defined"
     ]
    }
   ],
   "source": [
    "# ... (Your Adam optimizer implementation) ...\n",
    "\n",
    "# Store the optimization path in lists\n",
    "x1_path = []\n",
    "x2_path = []\n",
    "for x1, x2 in optimization_path:  # Assuming optimization_path is a list of (x1, x2) tuples\n",
    "  x1_path.append(x1)\n",
    "  x2_path.append(x2)"
   ]
  },
  {
   "cell_type": "code",
   "execution_count": null,
   "metadata": {},
   "outputs": [
    {
     "ename": "ValueError",
     "evalue": "Unknown solver SGD",
     "output_type": "error",
     "traceback": [
      "\u001b[1;31m---------------------------------------------------------------------------\u001b[0m",
      "\u001b[1;31mValueError\u001b[0m                                Traceback (most recent call last)",
      "Cell \u001b[1;32mIn[5], line 24\u001b[0m\n\u001b[0;32m     22\u001b[0m \u001b[38;5;66;03m# Use SciPy's minimize function with Adam optimizer\u001b[39;00m\n\u001b[0;32m     23\u001b[0m initial_point \u001b[38;5;241m=\u001b[39m np\u001b[38;5;241m.\u001b[39marray([\u001b[38;5;241m-\u001b[39m\u001b[38;5;241m4\u001b[39m, \u001b[38;5;241m-\u001b[39m\u001b[38;5;241m2\u001b[39m])  \u001b[38;5;66;03m# Initial guess\u001b[39;00m\n\u001b[1;32m---> 24\u001b[0m result \u001b[38;5;241m=\u001b[39m minimize(f, initial_point, method\u001b[38;5;241m=\u001b[39m\u001b[38;5;124m'\u001b[39m\u001b[38;5;124mSGD\u001b[39m\u001b[38;5;124m'\u001b[39m, options\u001b[38;5;241m=\u001b[39m{\u001b[38;5;124m'\u001b[39m\u001b[38;5;124mmaxiter\u001b[39m\u001b[38;5;124m'\u001b[39m: \u001b[38;5;241m100\u001b[39m})\n\u001b[0;32m     26\u001b[0m \u001b[38;5;66;03m# Extract the optimization path\u001b[39;00m\n\u001b[0;32m     27\u001b[0m x1_path \u001b[38;5;241m=\u001b[39m result\u001b[38;5;241m.\u001b[39mx_iters[:, \u001b[38;5;241m0\u001b[39m]\n",
      "File \u001b[1;32mc:\\Users\\axelo\\anaconda3\\Lib\\site-packages\\scipy\\optimize\\_minimize.py:741\u001b[0m, in \u001b[0;36mminimize\u001b[1;34m(fun, x0, args, method, jac, hess, hessp, bounds, constraints, tol, callback, options)\u001b[0m\n\u001b[0;32m    738\u001b[0m     res \u001b[38;5;241m=\u001b[39m _minimize_trustregion_exact(fun, x0, args, jac, hess,\n\u001b[0;32m    739\u001b[0m                                       callback\u001b[38;5;241m=\u001b[39mcallback, \u001b[38;5;241m*\u001b[39m\u001b[38;5;241m*\u001b[39moptions)\n\u001b[0;32m    740\u001b[0m \u001b[38;5;28;01melse\u001b[39;00m:\n\u001b[1;32m--> 741\u001b[0m     \u001b[38;5;28;01mraise\u001b[39;00m \u001b[38;5;167;01mValueError\u001b[39;00m(\u001b[38;5;124m'\u001b[39m\u001b[38;5;124mUnknown solver \u001b[39m\u001b[38;5;132;01m%s\u001b[39;00m\u001b[38;5;124m'\u001b[39m \u001b[38;5;241m%\u001b[39m method)\n\u001b[0;32m    743\u001b[0m \u001b[38;5;28;01mif\u001b[39;00m remove_vars:\n\u001b[0;32m    744\u001b[0m     res\u001b[38;5;241m.\u001b[39mx \u001b[38;5;241m=\u001b[39m _add_to_array(res\u001b[38;5;241m.\u001b[39mx, i_fixed, x_fixed)\n",
      "\u001b[1;31mValueError\u001b[0m: Unknown solver SGD"
     ]
    }
   ],
   "source": [
    "import numpy as np\n",
    "import matplotlib.pyplot as plt\n",
    "from scipy.optimize import minimize\n",
    "\n",
    "# Define the function with a global minimum\n",
    "def f(x):\n",
    "  \"\"\"\n",
    "  Calculates the value of the function with a global minimum.\n",
    "  \"\"\"\n",
    "  return np.sin(x[0]) + np.cos(2*x[0]) + np.exp(-x[0]**2) + 0.1 * x[1]**2  \n",
    "\n",
    "# Generate data for the contour plot\n",
    "x1 = np.linspace(-5, 2, 50)  # Adjust the range as needed\n",
    "x2 = np.linspace(-3, 1, 50)  # Adjust the range as needed\n",
    "X1, X2 = np.meshgrid(x1, x2)\n",
    "Z = np.zeros_like(X1)\n",
    "\n",
    "for i in range(len(x1)):\n",
    "  for j in range(len(x2)):\n",
    "    Z[i, j] = f([X1[i, j], X2[i, j]])\n",
    "\n",
    "# Use SciPy's minimize function with Adam optimizer\n",
    "initial_point = np.array([-4, -2])  # Initial guess\n",
    "result = minimize(f, initial_point, method='Adam', options={'maxiter': 100})\n",
    "\n",
    "# Extract the optimization path\n",
    "x1_path = result.x_iters[:, 0]\n",
    "x2_path = result.x_iters[:, 1]\n",
    "\n",
    "# Create the plot\n",
    "plt.figure(figsize=(6, 4))\n",
    "\n",
    "# Contour plot\n",
    "CS = plt.contour(X1, X2, Z, levels=10, cmap='Blues')\n",
    "\n",
    "# Optimization path\n",
    "plt.plot(x1_path, x2_path, marker='o', color='orange')\n",
    "\n",
    "plt.xlabel('x1')\n",
    "plt.ylabel('x2')\n",
    "plt.title('Optimization Path with Adam (SciPy)')\n",
    "plt.show()"
   ]
  }
 ],
 "metadata": {
  "kernelspec": {
   "display_name": "base",
   "language": "python",
   "name": "python3"
  },
  "language_info": {
   "codemirror_mode": {
    "name": "ipython",
    "version": 3
   },
   "file_extension": ".py",
   "mimetype": "text/x-python",
   "name": "python",
   "nbconvert_exporter": "python",
   "pygments_lexer": "ipython3",
   "version": "3.12.3"
  }
 },
 "nbformat": 4,
 "nbformat_minor": 2
}
