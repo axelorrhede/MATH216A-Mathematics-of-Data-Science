{
 "cells": [
  {
   "cell_type": "code",
   "execution_count": 6,
   "metadata": {},
   "outputs": [
    {
     "name": "stdout",
     "output_type": "stream",
     "text": [
      "[(a - 1)/(a + b - 2)]\n"
     ]
    }
   ],
   "source": [
    "import sympy as sp\n",
    "\n",
    "# Define the symbols\n",
    "mu = sp.symbols('mu')\n",
    "a = sp.symbols('a')\n",
    "b = sp.symbols('b')\n",
    "beta = sp.Function('beta')(mu)\n",
    "\n",
    "# Define the beta function (example function, replace with the actual beta function)\n",
    "beta = mu**(a-1) * (1-mu)**(b-1) * sp.gamma(a+b) / (sp.gamma(a) * sp.gamma(b))\n",
    "\n",
    "# Derive the beta function\n",
    "beta_prime = sp.diff(beta, mu)\n",
    "\n",
    "# Set the derivative to zero to find critical points\n",
    "critical_points = sp.solve(beta_prime, mu)\n",
    "print(critical_points)\n"
   ]
  },
  {
   "cell_type": "code",
   "execution_count": 16,
   "metadata": {},
   "outputs": [
    {
     "name": "stdout",
     "output_type": "stream",
     "text": [
      "(1, 6)\n",
      "(6, 6)\n",
      "⎡-2⋅λ - 2⋅μ     2⋅μ         2⋅λ        0     0   0  ⎤\n",
      "⎢                                                   ⎥\n",
      "⎢    α       -α - λ - μ      0         λ     μ   0  ⎥\n",
      "⎢                                                   ⎥\n",
      "⎢    β           0       -β - λ - μ    μ     0   λ  ⎥\n",
      "⎢                                                   ⎥\n",
      "⎢    0           β           α       -α - β  0   0  ⎥\n",
      "⎢                                                   ⎥\n",
      "⎢    0           α           0         0     0   0  ⎥\n",
      "⎢                                                   ⎥\n",
      "⎣    0           0          2⋅β        0     0  -2⋅β⎦\n",
      "[π₂₀  π₁₀  π₁₁  π₀₁  π₀₀  π₀₂]\n",
      "⎡      α⋅π₁₀ + β⋅π₁₁ + π₂₀⋅(-2⋅λ - 2⋅μ)      ⎤\n",
      "⎢                                            ⎥\n",
      "⎢ α⋅π₀₀ + β⋅π₀₁ + 2⋅μ⋅π₂₀ + π₁₀⋅(-α - λ - μ) ⎥\n",
      "⎢                                            ⎥\n",
      "⎢α⋅π₀₁ + 2⋅β⋅π₀₂ + 2⋅λ⋅π₂₀ + π₁₁⋅(-β - λ - μ)⎥\n",
      "⎢                                            ⎥\n",
      "⎢        λ⋅π₁₀ + μ⋅π₁₁ + π₀₁⋅(-α - β)        ⎥\n",
      "⎢                                            ⎥\n",
      "⎢                   μ⋅π₁₀                    ⎥\n",
      "⎢                                            ⎥\n",
      "⎢              -2⋅β⋅π₀₂ + λ⋅π₁₁              ⎥\n",
      "⎢                                            ⎥\n",
      "⎣     π₀₀ + π₀₁ + π₀₂ + π₁₀ + π₁₁ + π₂₀      ⎦\n",
      "⎡0⎤\n",
      "⎢ ⎥\n",
      "⎢0⎥\n",
      "⎢ ⎥\n",
      "⎢0⎥\n",
      "⎢ ⎥\n",
      "⎢0⎥\n",
      "⎢ ⎥\n",
      "⎢0⎥\n",
      "⎢ ⎥\n",
      "⎢0⎥\n",
      "⎢ ⎥\n",
      "⎣1⎦\n"
     ]
    },
    {
     "ename": "PolyNonlinearError",
     "evalue": "Nonlinear term encountered in solve_lin_sys",
     "output_type": "error",
     "traceback": [
      "\u001b[1;31m---------------------------------------------------------------------------\u001b[0m",
      "\u001b[1;31mPolyNonlinearError\u001b[0m                        Traceback (most recent call last)",
      "Cell \u001b[1;32mIn[16], line 33\u001b[0m\n\u001b[0;32m     31\u001b[0m sp\u001b[38;5;241m.\u001b[39mpretty_print(left)\n\u001b[0;32m     32\u001b[0m sp\u001b[38;5;241m.\u001b[39mpretty_print(right)\n\u001b[1;32m---> 33\u001b[0m solution \u001b[38;5;241m=\u001b[39m \u001b[43msp\u001b[49m\u001b[38;5;241;43m.\u001b[39;49m\u001b[43mlinsolve\u001b[49m\u001b[43m(\u001b[49m\u001b[43m(\u001b[49m\u001b[43mleft\u001b[49m\u001b[43m,\u001b[49m\u001b[43m \u001b[49m\u001b[43mright\u001b[49m\u001b[43m)\u001b[49m\u001b[43m,\u001b[49m\u001b[43m \u001b[49m\u001b[43mpi_20\u001b[49m\u001b[43m,\u001b[49m\u001b[43m \u001b[49m\u001b[43mpi_10\u001b[49m\u001b[43m,\u001b[49m\u001b[43m \u001b[49m\u001b[43mpi_11\u001b[49m\u001b[43m,\u001b[49m\u001b[43m \u001b[49m\u001b[43mpi_01\u001b[49m\u001b[43m,\u001b[49m\u001b[43m \u001b[49m\u001b[43mpi_00\u001b[49m\u001b[43m,\u001b[49m\u001b[43m \u001b[49m\u001b[43mpi_02\u001b[49m\u001b[43m)\u001b[49m\n\u001b[0;32m     35\u001b[0m solution\n",
      "File \u001b[1;32mc:\\Users\\axelo\\anaconda3\\envs\\CPU_pytorch_env\\Lib\\site-packages\\sympy\\solvers\\solveset.py:3150\u001b[0m, in \u001b[0;36mlinsolve\u001b[1;34m(system, *symbols)\u001b[0m\n\u001b[0;32m   3147\u001b[0m     eqs\u001b[38;5;241m.\u001b[39mappend(Add(\u001b[38;5;241m*\u001b[39mterms))\n\u001b[0;32m   3149\u001b[0m eqs, ring \u001b[38;5;241m=\u001b[39m sympy_eqs_to_ring(eqs, symbols)\n\u001b[1;32m-> 3150\u001b[0m sol \u001b[38;5;241m=\u001b[39m \u001b[43msolve_lin_sys\u001b[49m\u001b[43m(\u001b[49m\u001b[43meqs\u001b[49m\u001b[43m,\u001b[49m\u001b[43m \u001b[49m\u001b[43mring\u001b[49m\u001b[43m,\u001b[49m\u001b[43m \u001b[49m\u001b[43m_raw\u001b[49m\u001b[38;5;241;43m=\u001b[39;49m\u001b[38;5;28;43;01mFalse\u001b[39;49;00m\u001b[43m)\u001b[49m\n\u001b[0;32m   3151\u001b[0m \u001b[38;5;28;01mif\u001b[39;00m sol \u001b[38;5;129;01mis\u001b[39;00m \u001b[38;5;28;01mNone\u001b[39;00m:\n\u001b[0;32m   3152\u001b[0m     \u001b[38;5;28;01mreturn\u001b[39;00m S\u001b[38;5;241m.\u001b[39mEmptySet\n",
      "File \u001b[1;32mc:\\Users\\axelo\\anaconda3\\envs\\CPU_pytorch_env\\Lib\\site-packages\\sympy\\polys\\solvers.py:269\u001b[0m, in \u001b[0;36msolve_lin_sys\u001b[1;34m(eqs, ring, _raw)\u001b[0m\n\u001b[0;32m    267\u001b[0m     \u001b[38;5;28;01mif\u001b[39;00m \u001b[38;5;28msum\u001b[39m(monom) \u001b[38;5;241m!=\u001b[39m \u001b[38;5;241m1\u001b[39m:\n\u001b[0;32m    268\u001b[0m         msg \u001b[38;5;241m=\u001b[39m \u001b[38;5;124m\"\u001b[39m\u001b[38;5;124mNonlinear term encountered in solve_lin_sys\u001b[39m\u001b[38;5;124m\"\u001b[39m\n\u001b[1;32m--> 269\u001b[0m         \u001b[38;5;28;01mraise\u001b[39;00m PolyNonlinearError(msg)\n\u001b[0;32m    270\u001b[0m     eq_coeffs[ring\u001b[38;5;241m.\u001b[39mgens[monom\u001b[38;5;241m.\u001b[39mindex(\u001b[38;5;241m1\u001b[39m)]] \u001b[38;5;241m=\u001b[39m coeff\n\u001b[0;32m    271\u001b[0m \u001b[38;5;28;01mif\u001b[39;00m \u001b[38;5;129;01mnot\u001b[39;00m eq_coeffs:\n",
      "\u001b[1;31mPolyNonlinearError\u001b[0m: Nonlinear term encountered in solve_lin_sys"
     ]
    }
   ],
   "source": [
    "import sympy as sp\n",
    "from sympy import Matrix, symbols\n",
    "\n",
    "# Define the symbols\n",
    "alpha, beta, mu, lamda = symbols('alpha beta mu lambda')\n",
    "\n",
    "pi_20, pi_10, pi_11, pi_01, pi_00, pi_02 = symbols('pi_20 pi_10 pi_11 pi_01 pi_00 pi_02')\n",
    "\n",
    "PI = sp.transpose(Matrix([pi_20, pi_10, pi_11, pi_01, pi_00, pi_02]))\n",
    "\n",
    "# Create the matrix\n",
    "A = Matrix([\n",
    "    [-2*(mu + lamda), 2*mu, 2*lamda, 0, 0, 0],\n",
    "    [alpha, -(alpha + mu + lamda), 0, lamda, mu, 0],\n",
    "    [beta, 0, -(beta + mu + lamda), mu, 0, lamda],\n",
    "    [0, beta, alpha, -(alpha + beta), 0, 0],\n",
    "    [0, alpha, 0, 0, 0, 0],\n",
    "    [0, 0, 2*beta, 0, 0, -2*beta]\n",
    "])\n",
    "\n",
    "right = Matrix([0,0,0,0,0,0,1])\n",
    "# Print the matrix\n",
    "# print(PI.shape)\n",
    "# print(A.shape)\n",
    "# sp.pretty_print(A)\n",
    "# sp.pretty_print(PI)\n",
    "left = PI*A\n",
    "left = sp.transpose(left)\n",
    "sums = PI[0] + PI[1] + PI[2] + PI[3] + PI[4] + PI[5]\n",
    "left = left.row_insert(left.rows, Matrix([sums]))\n",
    "sp.pretty_print(left)\n",
    "sp.pretty_print(right)\n",
    "solution = sp.linsolve((left, right), pi_20, pi_10, pi_11, pi_01, pi_00, pi_02)\n",
    "\n",
    "solution\n"
   ]
  },
  {
   "cell_type": "code",
   "execution_count": 24,
   "metadata": {},
   "outputs": [
    {
     "name": "stdout",
     "output_type": "stream",
     "text": [
      "⎧     π₀₀⋅(-2⋅λ - 2⋅μ)   π₀₁⋅(-2⋅λ - 2⋅μ)   π₀₂⋅(-2⋅λ - 2⋅μ)   π₁₁⋅(-β - 2⋅λ - ↪\n",
      "⎨π₁₀: ──────────────── + ──────────────── + ──────────────── + ─────────────── ↪\n",
      "⎩      α + 2⋅λ + 2⋅μ      α + 2⋅λ + 2⋅μ      α + 2⋅λ + 2⋅μ        α + 2⋅λ + 2⋅ ↪\n",
      "\n",
      "↪  2⋅μ)     2⋅λ + 2⋅μ               α⋅π₀₀           α⋅π₀₁           α⋅π₀₂      ↪\n",
      "↪ ───── + ─────────────, π₂₀: - ───────────── - ───────────── - ─────────────  ↪\n",
      "↪ μ       α + 2⋅λ + 2⋅μ         α + 2⋅λ + 2⋅μ   α + 2⋅λ + 2⋅μ   α + 2⋅λ + 2⋅μ  ↪\n",
      "\n",
      "↪         α         π₁₁⋅(-α + β) ⎫\n",
      "↪ + ───────────── + ─────────────⎬\n",
      "↪   α + 2⋅λ + 2⋅μ   α + 2⋅λ + 2⋅μ⎭\n"
     ]
    }
   ],
   "source": [
    "import sympy as sp\n",
    "from sympy import Matrix, symbols\n",
    "\n",
    "# Define the symbols\n",
    "alpha, beta, mu, lamda = symbols('alpha beta mu lambda')\n",
    "\n",
    "pi_20, pi_10, pi_11, pi_01, pi_00, pi_02 = symbols('pi_20 pi_10 pi_11 pi_01 pi_00 pi_02')\n",
    "\n",
    "PI = sp.transpose(Matrix([pi_20, pi_10, pi_11, pi_01, pi_00, pi_02]))\n",
    "\n",
    "# Create the matrix A\n",
    "A = Matrix([\n",
    "    [-2*(mu + lamda), 2*mu, 2*lamda, 0, 0, 0],\n",
    "    [alpha, -(alpha + mu + lamda), 0, lamda, mu, 0],\n",
    "    [beta, 0, -(beta + mu + lamda), mu, 0, lamda],\n",
    "    [0, beta, alpha, -(alpha + beta), 0, 0],\n",
    "    [0, alpha, 0, 0, 0, 0],\n",
    "    [0, 0, 2*beta, 0, 0, -2*beta]\n",
    "])\n",
    "\n",
    "# Create the equations\n",
    "equations = (PI * A).transpose().tolist()[0]  # Get the equations from PI * A = 0\n",
    "constraint = pi_20 + pi_10 + pi_11 + pi_01 + pi_00 + pi_02 - 1\n",
    "\n",
    "# Solve the system of equations\n",
    "solution = sp.solve(equations + [constraint], (pi_20, pi_10, pi_11, pi_01, pi_00, pi_02))\n",
    "\n",
    "#print(solution)\n",
    "sp.pretty_print(solution)"
   ]
  },
  {
   "cell_type": "code",
   "execution_count": 25,
   "metadata": {},
   "outputs": [
    {
     "ename": "KeyError",
     "evalue": "pi_11",
     "output_type": "error",
     "traceback": [
      "\u001b[1;31m---------------------------------------------------------------------------\u001b[0m",
      "\u001b[1;31mKeyError\u001b[0m                                  Traceback (most recent call last)",
      "Cell \u001b[1;32mIn[25], line 30\u001b[0m\n\u001b[0;32m     28\u001b[0m \u001b[38;5;66;03m# Simplify the solution to eliminate interdependencies\u001b[39;00m\n\u001b[0;32m     29\u001b[0m \u001b[38;5;28;01mfor\u001b[39;00m pi_ij \u001b[38;5;129;01min\u001b[39;00m (pi_20, pi_10, pi_11, pi_01, pi_00, pi_02):\n\u001b[1;32m---> 30\u001b[0m     solution[pi_ij] \u001b[38;5;241m=\u001b[39m \u001b[43msolution\u001b[49m\u001b[43m[\u001b[49m\u001b[43mpi_ij\u001b[49m\u001b[43m]\u001b[49m\u001b[38;5;241m.\u001b[39msubs(solution)\n\u001b[0;32m     32\u001b[0m \u001b[38;5;28mprint\u001b[39m(solution)\n",
      "\u001b[1;31mKeyError\u001b[0m: pi_11"
     ]
    }
   ],
   "source": [
    "import sympy as sp\n",
    "from sympy import Matrix, symbols\n",
    "\n",
    "# Define the symbols\n",
    "alpha, beta, mu, lamda = symbols('alpha beta mu lambda')\n",
    "\n",
    "pi_20, pi_10, pi_11, pi_01, pi_00, pi_02 = symbols('pi_20 pi_10 pi_11 pi_01 pi_00 pi_02')\n",
    "\n",
    "PI = sp.transpose(Matrix([pi_20, pi_10, pi_11, pi_01, pi_00, pi_02]))\n",
    "\n",
    "# Create the matrix A\n",
    "A = Matrix([\n",
    "    [-2*(mu + lamda), 2*mu, 2*lamda, 0, 0, 0],\n",
    "    [alpha, -(alpha + mu + lamda), 0, lamda, mu, 0],\n",
    "    [beta, 0, -(beta + mu + lamda), mu, 0, lamda],\n",
    "    [0, beta, alpha, -(alpha + beta), 0, 0],\n",
    "    [0, alpha, 0, 0, 0, 0],\n",
    "    [0, 0, 2*beta, 0, 0, -2*beta]\n",
    "])\n",
    "\n",
    "# Create the equations\n",
    "equations = (PI * A).transpose().tolist()[0]  # Get the equations from PI * A = 0\n",
    "constraint = pi_20 + pi_10 + pi_11 + pi_01 + pi_00 + pi_02 - 1\n",
    "\n",
    "# Solve the system of equations\n",
    "solution = sp.solve(equations + [constraint], (pi_20, pi_10, pi_11, pi_01, pi_00, pi_02))\n",
    "\n",
    "# Simplify the solution to eliminate interdependencies\n",
    "for pi_ij in (pi_20, pi_10, pi_11, pi_01, pi_00, pi_02):\n",
    "    solution[pi_ij] = solution[pi_ij].subs(solution)\n",
    "\n",
    "print(solution)"
   ]
  },
  {
   "cell_type": "code",
   "execution_count": 21,
   "metadata": {},
   "outputs": [
    {
     "name": "stdout",
     "output_type": "stream",
     "text": [
      "[Eq(alpha*pi_10 + beta*pi_11 + pi_20*(-2*lambda - 2*mu), 0), Eq(alpha*pi_00 + beta*pi_01 + 2*mu*pi_20 + pi_10*(-alpha - lambda - mu), 0), Eq(alpha*pi_01 + 2*beta*pi_02 + 2*lambda*pi_20 + pi_11*(-beta - lambda - mu), 0), Eq(lambda*pi_10 + mu*pi_11 + pi_01*(-alpha - beta), 0), Eq(mu*pi_10, 0), Eq(-2*beta*pi_02 + lambda*pi_11, 0), Eq(pi_00 + pi_01 + pi_02 + pi_10 + pi_11 + pi_20, 1)]\n",
      "[]\n"
     ]
    }
   ],
   "source": [
    "from sympy import Matrix, symbols, Eq, solve, pretty_print\n",
    "\n",
    "# Define the symbols\n",
    "alpha, beta, mu, lamda = symbols('alpha beta mu lambda')\n",
    "pi_20, pi_10, pi_11, pi_01, pi_00, pi_02 = symbols('pi_20 pi_10 pi_11 pi_01 pi_00 pi_02')\n",
    "\n",
    "# Create the PI vector\n",
    "PI = transpose(Matrix([pi_20, pi_10, pi_11, pi_01, pi_00, pi_02]))\n",
    "\n",
    "# Create the matrix A\n",
    "A = Matrix([\n",
    "    [-2*(mu + lamda), 2*mu, 2*lamda, 0, 0, 0],\n",
    "    [alpha, -(alpha + mu + lamda), 0, lamda, mu, 0],\n",
    "    [beta, 0, -(beta + mu + lamda), mu, 0, lamda],\n",
    "    [0, beta, alpha, -(alpha + beta), 0, 0],\n",
    "    [0, alpha, 0, 0, 0, 0],\n",
    "    [0, 0, 2*beta, 0, 0, -2*beta]\n",
    "])\n",
    "\n",
    "# Create the right-hand side vector\n",
    "right = Matrix([0, 0, 0, 0, 0, 0, 1])\n",
    "\n",
    "# Perform matrix multiplication\n",
    "left = PI * A\n",
    "left = sp.transpose(left)\n",
    "\n",
    "# Compute the sum of PI elements\n",
    "sums = sum(PI)\n",
    "\n",
    "# Add the new term to the end of the left vector\n",
    "left = left.row_insert(left.rows, Matrix([sums]))\n",
    "\n",
    "\n",
    "equations = [Eq(left[i], right[i]) for i in range(left.rows)]\n",
    "print(equations)\n",
    "# Solve the system of equations\n",
    "solution = solve(equations, pi_20, pi_10, pi_11, pi_01, pi_00, pi_02)\n",
    "\n",
    "print(solution)"
   ]
  }
 ],
 "metadata": {
  "kernelspec": {
   "display_name": "CPU_pytorch_env",
   "language": "python",
   "name": "python3"
  },
  "language_info": {
   "codemirror_mode": {
    "name": "ipython",
    "version": 3
   },
   "file_extension": ".py",
   "mimetype": "text/x-python",
   "name": "python",
   "nbconvert_exporter": "python",
   "pygments_lexer": "ipython3",
   "version": "3.12.3"
  }
 },
 "nbformat": 4,
 "nbformat_minor": 2
}
